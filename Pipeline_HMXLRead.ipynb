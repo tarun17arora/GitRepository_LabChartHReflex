{
 "cells": [
  {
   "cell_type": "code",
   "execution_count": 1,
   "id": "19621afa",
   "metadata": {},
   "outputs": [],
   "source": [
    "import numpy as np\n",
    "import pandas as pd"
   ]
  },
  {
   "cell_type": "code",
   "execution_count": 2,
   "id": "53413f0c",
   "metadata": {},
   "outputs": [],
   "source": [
    "from Function_readLabChartMat import get_pages_data, backRMS, autoEventDetection, manualEventDetect, avgVals"
   ]
  },
  {
   "cell_type": "code",
   "execution_count": 3,
   "id": "75b9f4d9",
   "metadata": {},
   "outputs": [],
   "source": [
    "# generating inputs and creating the path\n",
    "import os\n",
    "cmnPath = r'R:\\Prosjekter\\ELECTROPHYSIOLOGY_PD_1000214'\n",
    "ptID = 'EHC01'\n",
    "\n",
    "if ptID.startswith('EHC'):\n",
    "    grp = 'HealthyControl'\n",
    "elif ptID.startswith('EPD'):\n",
    "    grp ='ParkinsonsDisease'\n",
    "\n"
   ]
  },
  {
   "cell_type": "code",
   "execution_count": 4,
   "id": "a93511f9",
   "metadata": {},
   "outputs": [
    {
     "name": "stdout",
     "output_type": "stream",
     "text": [
      "['EHC01_Visit Log_05032024_Analysis.xlsx']\n",
      "R:\\Prosjekter\\ELECTROPHYSIOLOGY_PD_1000214\\HealthyControl\\EHC01\\EHC01_Visit Log_05032024_Analysis.xlsx\n"
     ]
    }
   ],
   "source": [
    "# creating path based on the inputs and changing the working director\n",
    "filePath = os.path.join(cmnPath,grp,ptID)\n",
    "os.chdir(filePath)\n",
    "\n",
    "# locating the excel file \n",
    "xlFile = [f for f in os.listdir() if f.endswith('.xlsx') and f.startswith(ptID)]\n",
    "print(xlFile)\n",
    "\n",
    "xlPath = os.path.join(filePath,xlFile[0])\n",
    "print(xlPath)\n"
   ]
  },
  {
   "cell_type": "code",
   "execution_count": 6,
   "id": "35c3670d",
   "metadata": {},
   "outputs": [],
   "source": [
    "# importing data from excel file\n",
    "#READING EXCEL FILE\n",
    "    # Parsing Excel file into DataFrame \n",
    "xlData = pd.ExcelFile(xlPath)  \n",
    "\n",
    "    # reading entire excel file \n",
    "xlDF = pd.read_excel(xlData,sheet_name=\"Standing (ShortTrials)\")\n",
    "\n",
    "    #use in case want to read specific sheets and column/rows\n",
    "#xlSheetNames = sorted(xlData.sheet_names)\n",
    "#print(xlSheetNames)\n",
    "# xlDF = pd.read_excel(xlData,sheet_name='AR18E',header=0, index_col=0) "
   ]
  },
  {
   "cell_type": "code",
   "execution_count": null,
   "id": "e7187c10",
   "metadata": {},
   "outputs": [],
   "source": []
  }
 ],
 "metadata": {
  "kernelspec": {
   "display_name": "Python 3",
   "language": "python",
   "name": "python3"
  },
  "language_info": {
   "codemirror_mode": {
    "name": "ipython",
    "version": 3
   },
   "file_extension": ".py",
   "mimetype": "text/x-python",
   "name": "python",
   "nbconvert_exporter": "python",
   "pygments_lexer": "ipython3",
   "version": "3.12.3"
  }
 },
 "nbformat": 4,
 "nbformat_minor": 5
}
