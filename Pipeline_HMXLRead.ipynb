{
 "cells": [
  {
   "cell_type": "code",
   "execution_count": 1,
   "id": "19621afa",
   "metadata": {},
   "outputs": [],
   "source": [
    "import numpy as np\n",
    "import pandas as pd"
   ]
  },
  {
   "cell_type": "code",
   "execution_count": 2,
   "id": "53413f0c",
   "metadata": {},
   "outputs": [],
   "source": [
    "from Function_readLabChartMat import get_pages_data, backRMS, autoEventDetection, manualEventDetect, avgVals"
   ]
  },
  {
   "cell_type": "code",
   "execution_count": 3,
   "id": "75b9f4d9",
   "metadata": {},
   "outputs": [],
   "source": [
    "# generating inputs and creating the path\n",
    "import os\n",
    "cmnPath = r'R:\\Prosjekter\\ELECTROPHYSIOLOGY_PD_1000214'\n",
    "ptID = 'EHC01'\n",
    "\n",
    "if ptID.startswith('EHC'):\n",
    "    grp = 'HealthyControl'\n",
    "elif ptID.startswith('EPD'):\n",
    "    grp ='ParkinsonsDisease'\n",
    "\n"
   ]
  },
  {
   "cell_type": "code",
   "execution_count": 4,
   "id": "a93511f9",
   "metadata": {},
   "outputs": [
    {
     "name": "stdout",
     "output_type": "stream",
     "text": [
      "['EHC01_Visit Log_05032024_Analysis.xlsx']\n",
      "R:\\Prosjekter\\ELECTROPHYSIOLOGY_PD_1000214\\HealthyControl\\EHC01\\EHC01_Visit Log_05032024_Analysis.xlsx\n"
     ]
    }
   ],
   "source": [
    "# creating path based on the inputs and changing the working director\n",
    "filePath = os.path.join(cmnPath,grp,ptID)\n",
    "os.chdir(filePath)\n",
    "\n",
    "# locating the excel file \n",
    "xlFile = [f for f in os.listdir() if f.endswith('.xlsx') and f.startswith(ptID)]\n",
    "print(xlFile)\n",
    "\n",
    "xlPath = os.path.join(filePath,xlFile[0])\n",
    "print(xlPath)\n"
   ]
  },
  {
   "cell_type": "code",
   "execution_count": 6,
   "id": "13d53058",
   "metadata": {},
   "outputs": [
    {
     "name": "stdout",
     "output_type": "stream",
     "text": [
      "   Condition (randomized order)\n",
      "0                Eyes Open Foam\n",
      "1                Eyes Open Foam\n",
      "2           Eyes Closed Foam DT\n",
      "3              Eyes Closed Foam\n",
      "4              Eyes Closed Firm\n",
      "5              Eyes Closed Firm\n",
      "6                Eyes Open Foam\n",
      "7                Eyes Open Firm\n",
      "8              Eyes Closed Foam\n",
      "9           Eyes Closed Foam DT\n",
      "10          Eyes Closed Foam DT\n",
      "11               Eyes Open Firm\n",
      "12             Eyes Closed Foam\n",
      "13             Eyes Closed Firm\n",
      "14               Eyes Open Firm\n"
     ]
    }
   ],
   "source": [
    "xlData = pd.ExcelFile(xlPath)  \n",
    "df_frmXL = pd.read_excel(xlData,sheet_name=\"Standing (ShortTrials)\", usecols=\"B\", skiprows=8, nrows=15)\n",
    "print(df_frmXL)"
   ]
  },
  {
   "cell_type": "code",
   "execution_count": 19,
   "id": "d700bf87",
   "metadata": {},
   "outputs": [
    {
     "name": "stdout",
     "output_type": "stream",
     "text": [
      "15\n"
     ]
    }
   ],
   "source": [
    "EOpen = df_frmXL['Condition (randomized order)'].str.contains('Open', case=False, na=False)\n",
    "SurfaceFirm = df_frmXL['Condition (randomized order)'].str.contains('Firm', case=False, na=False)\n",
    "DualTask = df_frmXL['Condition (randomized order)'].str.contains('DT', case=False, na=False)\n",
    "trialOrder = list(range(1,len(df_frmXL)+1))\n",
    "partiID =  [ptID] * len(df_frmXL)\n",
    "print(len(partiID))"
   ]
  },
  {
   "cell_type": "code",
   "execution_count": 20,
   "id": "1d2e19e1",
   "metadata": {},
   "outputs": [
    {
     "name": "stdout",
     "output_type": "stream",
     "text": [
      "   Condition (randomized order) ParticipantID  TrialOrder  EOpen  SFirm  DTask\n",
      "0                Eyes Open Foam         EHC01           1   True  False  False\n",
      "1                Eyes Open Foam         EHC01           2   True  False  False\n",
      "2           Eyes Closed Foam DT         EHC01           3  False  False   True\n",
      "3              Eyes Closed Foam         EHC01           4  False  False  False\n",
      "4              Eyes Closed Firm         EHC01           5  False   True  False\n",
      "5              Eyes Closed Firm         EHC01           6  False   True  False\n",
      "6                Eyes Open Foam         EHC01           7   True  False  False\n",
      "7                Eyes Open Firm         EHC01           8   True   True  False\n",
      "8              Eyes Closed Foam         EHC01           9  False  False  False\n",
      "9           Eyes Closed Foam DT         EHC01          10  False  False   True\n",
      "10          Eyes Closed Foam DT         EHC01          11  False  False   True\n",
      "11               Eyes Open Firm         EHC01          12   True   True  False\n",
      "12             Eyes Closed Foam         EHC01          13  False  False  False\n",
      "13             Eyes Closed Firm         EHC01          14  False   True  False\n",
      "14               Eyes Open Firm         EHC01          15   True   True  False\n"
     ]
    }
   ],
   "source": [
    "dict_forXL = {\"ParticipantID\": partiID, \"TrialOrder\": trialOrder, \"EOpen\": EOpen, \"SFirm\":SurfaceFirm, \"DTask\":DualTask}\n",
    "df_Combined = df_frmXL.assign(**dict_forXL)\n",
    "print(df_Combined)"
   ]
  },
  {
   "cell_type": "code",
   "execution_count": null,
   "id": "346134ef",
   "metadata": {},
   "outputs": [],
   "source": [
    "new_order = ['B', 'D', 'A', 'C']\n",
    "\n",
    "# Rearranging the columns\n",
    "df = df[new_order]"
   ]
  }
 ],
 "metadata": {
  "kernelspec": {
   "display_name": "Python 3",
   "language": "python",
   "name": "python3"
  },
  "language_info": {
   "codemirror_mode": {
    "name": "ipython",
    "version": 3
   },
   "file_extension": ".py",
   "mimetype": "text/x-python",
   "name": "python",
   "nbconvert_exporter": "python",
   "pygments_lexer": "ipython3",
   "version": "3.12.3"
  }
 },
 "nbformat": 4,
 "nbformat_minor": 5
}
